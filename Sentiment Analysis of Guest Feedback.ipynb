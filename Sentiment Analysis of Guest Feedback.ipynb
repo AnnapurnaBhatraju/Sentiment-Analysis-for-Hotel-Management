{
 "cells": [
  {
   "cell_type": "markdown",
   "id": "432a24f6-5e19-4bf9-ad0a-e5c0c4345880",
   "metadata": {},
   "source": [
    "### Importing Required Libraries"
   ]
  },
  {
   "cell_type": "code",
   "execution_count": 1,
   "id": "763622a0-9833-4993-8056-5088173eadb5",
   "metadata": {},
   "outputs": [],
   "source": [
    "import requests\n",
    "from dotenv import load_dotenv\n",
    "import os\n"
   ]
  },
  {
   "cell_type": "markdown",
   "id": "11e6bc55-0803-4378-8777-5a415ae9c7f9",
   "metadata": {},
   "source": [
    "### Loading Environment Variables"
   ]
  },
  {
   "cell_type": "code",
   "execution_count": 30,
   "id": "d49668ac-c7c8-4213-b424-e7f55caf837f",
   "metadata": {},
   "outputs": [],
   "source": [
    "# Load environment variables from .env file\n",
    "load_dotenv()\n",
    "\n",
    "# Retrieve the API key from environment variables\n",
    "api_key = os.getenv(\"HUGGINGFACE_API_KEY\")\n",
    "\n",
    "if not api_key:\n",
    "    print(\"Error: Missing API Key!\")\n",
    "    exit(1)\n"
   ]
  },
  {
   "cell_type": "markdown",
   "id": "ca9e1a19-8f0c-4ffd-87ad-da2021762f9f",
   "metadata": {},
   "source": [
    "### Defining the API URL and Headers"
   ]
  },
  {
   "cell_type": "code",
   "execution_count": 31,
   "id": "ae0638a8-0b0d-4a9d-ba56-4e29272b8608",
   "metadata": {},
   "outputs": [],
   "source": [
    "# Define the API URL and headers with your Hugging Face API key\n",
    "api_url = \"https://api-inference.huggingface.co/models/distilbert-base-uncased-finetuned-sst-2-english\"\n",
    "headers = {\n",
    "    \"Authorization\": f\"Bearer {api_key}\"\n",
    "}\n"
   ]
  },
  {
   "cell_type": "markdown",
   "id": "ebf63595-c5f2-4cfe-b9f0-5b2cfd167364",
   "metadata": {},
   "source": [
    "### Loading Negative Areas from File"
   ]
  },
  {
   "cell_type": "code",
   "execution_count": 32,
   "id": "d6c410b9-009c-4778-bea8-9dbcd71fa520",
   "metadata": {},
   "outputs": [],
   "source": [
    "# Load negative areas from a file\n",
    "def load_negative_areas(file_path):\n",
    "    try:\n",
    "        with open(file_path, 'r') as file:\n",
    "            return [line.strip() for line in file.readlines()]\n",
    "    except FileNotFoundError:\n",
    "        print(f\"Error: {file_path} not found!\")\n",
    "        return []\n",
    "\n"
   ]
  },
  {
   "cell_type": "markdown",
   "id": "0b536ed9-7844-46ad-8f12-2a8806b92014",
   "metadata": {},
   "source": [
    "### Function to Process Feedback"
   ]
  },
  {
   "cell_type": "code",
   "execution_count": 33,
   "id": "19c45c92-071d-4e18-a6f9-afb3d800c115",
   "metadata": {},
   "outputs": [],
   "source": [
    "# Function to process feedback\n",
    "def process_feedback(feedback):\n",
    "    # Load the negative areas from the file\n",
    "    negative_areas = load_negative_areas('negative_areas.txt')  # Ensure the file is in the same directory\n",
    "\n",
    "    if not feedback.strip():\n",
    "        print(\"Please enter some valid feedback!\")\n",
    "        return\n",
    "\n",
    "    # Create the input payload for the API request\n",
    "    data = {\"inputs\": feedback}\n",
    "\n",
    "    # Make a POST request to Hugging Face's API\n",
    "    response = requests.post(api_url, headers=headers, json=data)\n",
    "\n",
    "    # Check if the response is successful and process the result\n",
    "    if response.status_code == 200:\n",
    "        result = response.json()  # If successful, process the response data\n",
    "        print(\"\\nAPI Response:\", result)  # Debugging step to inspect the actual response structure\n",
    "        \n",
    "        # Extract the sentiment label\n",
    "        try:\n",
    "            sentiment = result[0][0]['label']  # Adjusted indexing\n",
    "            print(f\"\\nSentiment Analysis Result:\\n- Sentiment: {sentiment}\")\n",
    "            \n",
    "            if sentiment == \"NEGATIVE\":\n",
    "                print(\"  Negative feedback related to:\")\n",
    "                \n",
    "                # Compare feedback with the negative areas\n",
    "                found_areas = [area for area in negative_areas if area.lower() in feedback.lower()]\n",
    "                \n",
    "                if found_areas:\n",
    "                    for area in found_areas:\n",
    "                        print(f\"  - {area}\")\n",
    "                else:\n",
    "                    print(\"  No specific areas of negative feedback identified.\")\n",
    "        except (IndexError, KeyError) as e:\n",
    "            print(\"Unexpected API response structure:\", e)\n",
    "    else:\n",
    "        print(f\"Error: {response.status_code}, {response.text}\")\n"
   ]
  },
  {
   "cell_type": "markdown",
   "id": "7ceccc68-5947-4948-997c-8e0641f9111b",
   "metadata": {},
   "source": [
    "### Main Function to Get User Input and Call Processing Function"
   ]
  },
  {
   "cell_type": "code",
   "execution_count": 34,
   "id": "1a2e829e-da0f-43ae-830c-e8315a76fd9e",
   "metadata": {},
   "outputs": [],
   "source": [
    "def main():\n",
    "    # Input: Dynamic user feedback\n",
    "    feedback = input(\"Please enter your feedback: \")\n",
    "    \n",
    "    # Call the function to process feedback\n",
    "    process_feedback(feedback)\n"
   ]
  },
  {
   "cell_type": "code",
   "execution_count": 27,
   "id": "f2e28faa-d9b9-4699-bf55-1c4815ae683b",
   "metadata": {},
   "outputs": [
    {
     "name": "stdin",
     "output_type": "stream",
     "text": [
      "Please enter your feedback:  My stay at this hotel was delightful. The check-in process was smooth, and the reception staff greeted me with warmth and professionalism. The room was spotless, with comfortable bedding and excellent air conditioning. The dining experience was exceptional, with delicious food and attentive staff. I appreciated the fast Wi-Fi, spacious parking facilities, and well-maintained pool and spa services. Overall, the staff went above and beyond to ensure a pleasant stay, and I would highly recommend this hotel to others.\n"
     ]
    },
    {
     "name": "stdout",
     "output_type": "stream",
     "text": [
      "\n",
      "API Response: [[{'label': 'POSITIVE', 'score': 0.9998680353164673}, {'label': 'NEGATIVE', 'score': 0.0001319767616223544}]]\n",
      "Sentiment: POSITIVE\n"
     ]
    }
   ],
   "source": [
    "main()"
   ]
  },
  {
   "cell_type": "code",
   "execution_count": 35,
   "id": "fdff3ec2-9037-4e7b-9c56-ab0dcde60426",
   "metadata": {},
   "outputs": [
    {
     "name": "stdin",
     "output_type": "stream",
     "text": [
      "Please enter your feedback:  The check-in process was chaotic, taking over an hour because the reception staff seemed poorly trained and disorganized. When I finally got to my room, I found that the air conditioning was not working, the room smelled musty, and the bathroom had stains on the sink. To make matters worse, the noise from neighboring rooms was unbearable, and despite complaining multiple times to the staff, nothing was done to address the issue. The lack of proper parking facilities added to the frustration as I had to park far from the hotel. Overall, this was one of the worst experiences I've had in a hotel.\n"
     ]
    },
    {
     "name": "stdout",
     "output_type": "stream",
     "text": [
      "\n",
      "API Response: [[{'label': 'NEGATIVE', 'score': 0.9997958540916443}, {'label': 'POSITIVE', 'score': 0.00020419068459887058}]]\n",
      "\n",
      "Sentiment Analysis Result:\n",
      "- Sentiment: NEGATIVE\n",
      "  Negative feedback related to:\n",
      "  - reception\n",
      "  - facilities\n",
      "  - check-in process\n",
      "  - parking facilities\n"
     ]
    }
   ],
   "source": [
    "main()"
   ]
  },
  {
   "cell_type": "code",
   "execution_count": 10,
   "id": "1c52948f-cd63-4c16-b285-466e47005542",
   "metadata": {},
   "outputs": [
    {
     "name": "stdin",
     "output_type": "stream",
     "text": [
      "Please enter your feedback:  I had high hopes for this hotel, but it failed miserably on all fronts. The dining area was unclean, with tables not cleared even after guests had left. Room service was incredibly slow; I had to wait over an hour for a simple order. The elevator was malfunctioning, and I had to climb several flights of stairs to reach my room. Adding to the woes, the laundry service returned my clothes late and with stains. The billing process was confusing and overcharged me for amenities I didn’t use. The overall lack of professionalism and attention to detail was appalling.\n"
     ]
    },
    {
     "name": "stdout",
     "output_type": "stream",
     "text": [
      "\n",
      "API Response: [[{'label': 'NEGATIVE', 'score': 0.9997768998146057}, {'label': 'POSITIVE', 'score': 0.0002231094113085419}]]\n",
      "Sentiment: NEGATIVE\n",
      "Analyzing areas that caused negative feedback...\n",
      "\n",
      "Negative feedback related to:\n",
      "- overcharged\n",
      "- dining\n",
      "- room service\n",
      "- amenities\n"
     ]
    }
   ],
   "source": [
    "main()"
   ]
  },
  {
   "cell_type": "code",
   "execution_count": 14,
   "id": "e52f77fb-d6dd-4910-ba39-d0f11f2d3822",
   "metadata": {},
   "outputs": [
    {
     "name": "stdin",
     "output_type": "stream",
     "text": [
      "Please enter your feedback:  My experience at this hotel was disappointing from start to finish. The valet service was slow and unprofessional, and the check-in process took forever. The room had blood stains on the pillow, and the bathroom was filthy. When I called for room service, I was put on hold for over 15 minutes, only to be told that they couldn't accommodate my request. The Wi-Fi was non-existent, and the noise from the hallway made it impossible to rest. The management seemed indifferent to the numerous issues I raised.\n"
     ]
    },
    {
     "name": "stdout",
     "output_type": "stream",
     "text": [
      "\n",
      "API Response: [[{'label': 'NEGATIVE', 'score': 0.9997290968894958}, {'label': 'POSITIVE', 'score': 0.00027091664378531277}]]\n",
      "Sentiment: NEGATIVE\n",
      "Analyzing areas that caused negative feedback...\n",
      "\n",
      "Negative feedback related to:\n",
      "- room service\n",
      "- check-in process\n"
     ]
    }
   ],
   "source": [
    "main()"
   ]
  },
  {
   "cell_type": "code",
   "execution_count": 16,
   "id": "54c8cca8-4319-4064-ab02-0ac9e98487c0",
   "metadata": {},
   "outputs": [
    {
     "name": "stdin",
     "output_type": "stream",
     "text": [
      "Please enter your feedback:  I chose this hotel based on its advertised amenities, but it was a complete letdown. The dining experience was terrible; the food was cold, and the staff seemed inattentive. The air conditioning in my room didn’t work properly, and the parking facilities were a nightmare, with no security in place. On top of that, the check-out process was delayed because the system was down, and no one offered an apology or solution. The overall attitude of the staff and the state of the facilities made this a regretful choice.\n"
     ]
    },
    {
     "name": "stdout",
     "output_type": "stream",
     "text": [
      "\n",
      "API Response: [[{'label': 'NEGATIVE', 'score': 0.9998032450675964}, {'label': 'POSITIVE', 'score': 0.0001967947173397988}]]\n",
      "Sentiment: NEGATIVE\n",
      "Analyzing areas that caused negative feedback...\n",
      "\n",
      "Negative feedback related to:\n",
      "- dining\n",
      "- facilities\n",
      "- amenities\n",
      "- check-out process\n",
      "- parking facilities\n"
     ]
    }
   ],
   "source": [
    "main()"
   ]
  },
  {
   "cell_type": "code",
   "execution_count": null,
   "id": "95ad7005-668c-4073-a92f-9ac4e700f6fc",
   "metadata": {},
   "outputs": [],
   "source": []
  }
 ],
 "metadata": {
  "kernelspec": {
   "display_name": "Python 3 (ipykernel)",
   "language": "python",
   "name": "python3"
  },
  "language_info": {
   "codemirror_mode": {
    "name": "ipython",
    "version": 3
   },
   "file_extension": ".py",
   "mimetype": "text/x-python",
   "name": "python",
   "nbconvert_exporter": "python",
   "pygments_lexer": "ipython3",
   "version": "3.11.2"
  }
 },
 "nbformat": 4,
 "nbformat_minor": 5
}
