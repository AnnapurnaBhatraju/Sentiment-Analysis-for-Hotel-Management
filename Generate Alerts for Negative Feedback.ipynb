{
 "cells": [
  {
   "cell_type": "markdown",
   "id": "0be4b4cf-2d48-4bd5-a920-e5c7f3cc53df",
   "metadata": {},
   "source": [
    "### Import Libraries and Load Environment Variables"
   ]
  },
  {
   "cell_type": "code",
   "execution_count": 12,
   "id": "6597ef5b-1f36-4d48-9a65-0dab1a54f256",
   "metadata": {},
   "outputs": [],
   "source": [
    "import requests\n",
    "from dotenv import load_dotenv\n",
    "import os\n",
    "\n",
    "# Load environment variables from .env file\n",
    "load_dotenv()\n",
    "\n",
    "# Retrieve the API key from environment variables\n",
    "api_key = os.getenv(\"HUGGINGFACE_API_KEY\")  # Replace with your variable name\n",
    "\n",
    "# Define the API URL and headers for Hugging Face API\n",
    "api_url = \"https://api-inference.huggingface.co/models/distilbert-base-uncased-finetuned-sst-2-english\"\n",
    "headers = {\n",
    "    \"Authorization\": f\"Bearer {api_key}\"\n",
    "}\n"
   ]
  },
  {
   "cell_type": "markdown",
   "id": "05c73ea7-1247-47c7-b6dc-276433849d7b",
   "metadata": {},
   "source": [
    "### Load Negative Areas"
   ]
  },
  {
   "cell_type": "code",
   "execution_count": 13,
   "id": "df555ae2-11c1-4ea1-af6d-643cef57362b",
   "metadata": {},
   "outputs": [],
   "source": [
    "# Load negative areas from a file\n",
    "def load_negative_areas(file_path):\n",
    "    with open(file_path, 'r') as file:\n",
    "        return [line.strip() for line in file.readlines()]\n"
   ]
  },
  {
   "cell_type": "markdown",
   "id": "dc095a83-63e6-4991-892d-e2cae9df340f",
   "metadata": {},
   "source": [
    "### Process Feedback"
   ]
  },
  {
   "cell_type": "code",
   "execution_count": 14,
   "id": "be78e021-23e5-418f-a059-1ad2e7b936db",
   "metadata": {},
   "outputs": [],
   "source": [
    "# Function to process feedback and analyze sentiment\n",
    "def process_feedback(feedback):\n",
    "    # Load the negative areas from the file\n",
    "    negative_areas = load_negative_areas('negative_areas.txt')  # Ensure the file is in the same directory\n",
    "\n",
    "    # Create the input payload for the API request\n",
    "    data = {\"inputs\": feedback}\n",
    "\n",
    "    # Make a POST request to Hugging Face's API\n",
    "    response = requests.post(api_url, headers=headers, json=data)\n",
    "\n",
    "    # Check if the response is successful and process the result\n",
    "    if response.status_code == 200:\n",
    "        result = response.json()  # If successful, process the response data\n",
    "        print(\"\\nAPI Response:\", result)  # Debugging step to inspect the actual response structure\n",
    "        \n",
    "        # Extract the sentiment label\n",
    "        try:\n",
    "            sentiment = result[0][0]['label']  # Adjusted indexing\n",
    "            print(f\"Sentiment: {sentiment}\")\n",
    "            \n",
    "            if sentiment == \"NEGATIVE\":\n",
    "                print(\"Negative sentiment detected. Analyzing areas that caused negative feedback...\")\n",
    "                \n",
    "                # Compare feedback with the negative areas\n",
    "                found_areas = [area for area in negative_areas if area.lower() in feedback.lower()]\n",
    "                \n",
    "                if found_areas:\n",
    "                    print(\"\\nNegative feedback related to:\")\n",
    "                    for area in found_areas:\n",
    "                        print(f\"- {area}\")\n",
    "                else:\n",
    "                    print(\"No specific areas of negative feedback identified.\")\n",
    "                \n",
    "                # Generate an alert for negative sentiment or service issues\n",
    "                generate_alert(feedback, found_areas)\n",
    "                \n",
    "        except (IndexError, KeyError) as e:\n",
    "            print(\"Unexpected API response structure:\", e)\n",
    "    else:\n",
    "        print(f\"Error: {response.status_code}, {response.text}\")\n"
   ]
  },
  {
   "cell_type": "markdown",
   "id": "8bc0b86a-0aa2-402a-9756-d079a32c1787",
   "metadata": {},
   "source": [
    "### Generate Alert"
   ]
  },
  {
   "cell_type": "code",
   "execution_count": 17,
   "id": "1388e329-9906-46ce-a7bc-a1a2d0c35d18",
   "metadata": {},
   "outputs": [],
   "source": [
    "# Function to generate an alert\n",
    "def generate_alert(feedback, found_areas):\n",
    "    # Generate a detailed alert including the negative areas\n",
    "    print(f\"\\nALERT GENERATED: Immediate attention required for the following feedback:\")\n",
    "    print(f\"Feedback: {feedback}\")\n",
    "    if found_areas:\n",
    "        print(\"\\nIdentified issues in the following areas:\")\n",
    "        for area in found_areas:\n",
    "            print(f\"- {area}\")\n",
    "    else:\n",
    "        print(\"No specific areas identified, but negative sentiment detected.\")\n",
    "    # You can implement email, SMS, or internal notification logic here\n"
   ]
  },
  {
   "cell_type": "markdown",
   "id": "f43aad67-6b8c-457c-8e2a-510ddfb5395c",
   "metadata": {},
   "source": [
    "### Main Function"
   ]
  },
  {
   "cell_type": "code",
   "execution_count": 19,
   "id": "87c308d0-3ed0-4d62-a2e6-f43121069603",
   "metadata": {},
   "outputs": [],
   "source": [
    "# Main function to get user input and process feedback\n",
    "def main():\n",
    "    # Input: Dynamic user feedback\n",
    "    feedback = input(\"Please enter your feedback: \")\n",
    "    \n",
    "    # Call the function to process feedback\n",
    "    process_feedback(feedback)\n"
   ]
  },
  {
   "cell_type": "code",
   "execution_count": 20,
   "id": "facae49f-9199-4ec1-bf59-a29638341c79",
   "metadata": {},
   "outputs": [
    {
     "name": "stdin",
     "output_type": "stream",
     "text": [
      "Please enter your feedback:  The check-in process was chaotic, taking over an hour because the reception staff seemed poorly trained and disorganized. When I finally got to my room, I found that the air conditioning was not working, the room smelled musty, and the bathroom had stains on the sink. To make matters worse, the noise from neighboring rooms was unbearable, and despite complaining multiple times to the staff, nothing was done to address the issue. The lack of proper parking facilities added to the frustration as I had to park far from the hotel. Overall, this was one of the worst experiences I've had in a hotel.\n"
     ]
    },
    {
     "name": "stdout",
     "output_type": "stream",
     "text": [
      "\n",
      "API Response: [[{'label': 'NEGATIVE', 'score': 0.9997958540916443}, {'label': 'POSITIVE', 'score': 0.00020419068459887058}]]\n",
      "Sentiment: NEGATIVE\n",
      "Negative sentiment detected. Analyzing areas that caused negative feedback...\n",
      "\n",
      "Negative feedback related to:\n",
      "- reception\n",
      "- facilities\n",
      "- check-in process\n",
      "- parking facilities\n",
      "\n",
      "ALERT GENERATED: Immediate attention required for the following feedback:\n",
      "Feedback: The check-in process was chaotic, taking over an hour because the reception staff seemed poorly trained and disorganized. When I finally got to my room, I found that the air conditioning was not working, the room smelled musty, and the bathroom had stains on the sink. To make matters worse, the noise from neighboring rooms was unbearable, and despite complaining multiple times to the staff, nothing was done to address the issue. The lack of proper parking facilities added to the frustration as I had to park far from the hotel. Overall, this was one of the worst experiences I've had in a hotel.\n",
      "\n",
      "Identified issues in the following areas:\n",
      "- reception\n",
      "- facilities\n",
      "- check-in process\n",
      "- parking facilities\n"
     ]
    }
   ],
   "source": [
    "\n",
    "# Run the main function\n",
    "main()\n"
   ]
  },
  {
   "cell_type": "code",
   "execution_count": 21,
   "id": "542fdd3b-b929-441c-8ed6-ddd3907e8a84",
   "metadata": {},
   "outputs": [
    {
     "name": "stdin",
     "output_type": "stream",
     "text": [
      "Please enter your feedback:  My stay at this hotel was delightful. The check-in process was smooth, and the reception staff greeted me with warmth and professionalism. The room was spotless, with comfortable bedding and excellent air conditioning. The dining experience was exceptional, with delicious food and attentive staff. I appreciated the fast Wi-Fi, spacious parking facilities, and well-maintained pool and spa services. Overall, the staff went above and beyond to ensure a pleasant stay, and I would highly recommend this hotel to others.\n"
     ]
    },
    {
     "name": "stdout",
     "output_type": "stream",
     "text": [
      "\n",
      "API Response: [[{'label': 'POSITIVE', 'score': 0.9998680353164673}, {'label': 'NEGATIVE', 'score': 0.0001319767616223544}]]\n",
      "Sentiment: POSITIVE\n"
     ]
    }
   ],
   "source": [
    "main()"
   ]
  },
  {
   "cell_type": "code",
   "execution_count": 22,
   "id": "c78ac438-690e-4d90-931f-f97dcba08d60",
   "metadata": {},
   "outputs": [
    {
     "name": "stdin",
     "output_type": "stream",
     "text": [
      "Please enter your feedback:  My experience at this hotel was disappointing from start to finish. The valet service was slow and unprofessional, and the check-in process took forever. The room had blood stains on the pillow, and the bathroom was filthy. When I called for room service, I was put on hold for over 15 minutes, only to be told that they couldn't accommodate my request. The Wi-Fi was non-existent, and the noise from the hallway made it impossible to rest. The management seemed indifferent to the numerous issues I raised\n"
     ]
    },
    {
     "name": "stdout",
     "output_type": "stream",
     "text": [
      "\n",
      "API Response: [[{'label': 'NEGATIVE', 'score': 0.9997273087501526}, {'label': 'POSITIVE', 'score': 0.0002726376405917108}]]\n",
      "Sentiment: NEGATIVE\n",
      "Negative sentiment detected. Analyzing areas that caused negative feedback...\n",
      "\n",
      "Negative feedback related to:\n",
      "- room service\n",
      "- check-in process\n",
      "\n",
      "ALERT GENERATED: Immediate attention required for the following feedback:\n",
      "Feedback: My experience at this hotel was disappointing from start to finish. The valet service was slow and unprofessional, and the check-in process took forever. The room had blood stains on the pillow, and the bathroom was filthy. When I called for room service, I was put on hold for over 15 minutes, only to be told that they couldn't accommodate my request. The Wi-Fi was non-existent, and the noise from the hallway made it impossible to rest. The management seemed indifferent to the numerous issues I raised\n",
      "\n",
      "Identified issues in the following areas:\n",
      "- room service\n",
      "- check-in process\n"
     ]
    }
   ],
   "source": [
    "main()"
   ]
  },
  {
   "cell_type": "code",
   "execution_count": 23,
   "id": "bf218d64-b5b0-480d-9b8e-393e8e6584d2",
   "metadata": {},
   "outputs": [
    {
     "name": "stdin",
     "output_type": "stream",
     "text": [
      "Please enter your feedback:  I chose this hotel based on its advertised amenities, but it was a complete letdown. The dining experience was terrible; the food was cold, and the staff seemed inattentive. The air conditioning in my room didn’t work properly, and the parking facilities were a nightmare, with no security in place. On top of that, the check-out process was delayed because the system was down, and no one offered an apology or solution. The overall attitude of the staff and the state of the facilities made this a regretful choice.\n"
     ]
    },
    {
     "name": "stdout",
     "output_type": "stream",
     "text": [
      "\n",
      "API Response: [[{'label': 'NEGATIVE', 'score': 0.9998032450675964}, {'label': 'POSITIVE', 'score': 0.0001967947173397988}]]\n",
      "Sentiment: NEGATIVE\n",
      "Negative sentiment detected. Analyzing areas that caused negative feedback...\n",
      "\n",
      "Negative feedback related to:\n",
      "- dining\n",
      "- facilities\n",
      "- amenities\n",
      "- check-out process\n",
      "- parking facilities\n",
      "\n",
      "ALERT GENERATED: Immediate attention required for the following feedback:\n",
      "Feedback: I chose this hotel based on its advertised amenities, but it was a complete letdown. The dining experience was terrible; the food was cold, and the staff seemed inattentive. The air conditioning in my room didn’t work properly, and the parking facilities were a nightmare, with no security in place. On top of that, the check-out process was delayed because the system was down, and no one offered an apology or solution. The overall attitude of the staff and the state of the facilities made this a regretful choice.\n",
      "\n",
      "Identified issues in the following areas:\n",
      "- dining\n",
      "- facilities\n",
      "- amenities\n",
      "- check-out process\n",
      "- parking facilities\n"
     ]
    }
   ],
   "source": [
    "main()"
   ]
  },
  {
   "cell_type": "code",
   "execution_count": null,
   "id": "ba223a6d-79d6-49c9-86b4-a3dd95bce5e9",
   "metadata": {},
   "outputs": [],
   "source": []
  }
 ],
 "metadata": {
  "kernelspec": {
   "display_name": "Python 3 (ipykernel)",
   "language": "python",
   "name": "python3"
  },
  "language_info": {
   "codemirror_mode": {
    "name": "ipython",
    "version": 3
   },
   "file_extension": ".py",
   "mimetype": "text/x-python",
   "name": "python",
   "nbconvert_exporter": "python",
   "pygments_lexer": "ipython3",
   "version": "3.11.2"
  }
 },
 "nbformat": 4,
 "nbformat_minor": 5
}
