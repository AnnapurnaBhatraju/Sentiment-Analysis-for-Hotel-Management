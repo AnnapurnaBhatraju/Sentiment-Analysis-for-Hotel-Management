{
 "cells": [
  {
   "cell_type": "markdown",
   "id": "df9d6c13-d9c0-4030-9346-b47f0c459d97",
   "metadata": {},
   "source": [
    "### Import Libraries and Load Environment Variables"
   ]
  },
  {
   "cell_type": "code",
   "execution_count": 8,
   "id": "062ee592-30a6-407e-b8f5-363e0dcc7839",
   "metadata": {},
   "outputs": [],
   "source": [
    "import requests\n",
    "from dotenv import load_dotenv\n",
    "import os\n",
    "\n",
    "# Load environment variables from .env file\n",
    "load_dotenv()\n",
    "\n",
    "# Retrieve the API key from environment variables\n",
    "api_key = os.getenv(\"GROQCLOUD_API_KEY\")\n",
    "\n",
    "# Define the API URL and headers for GroqCloud API\n",
    "api_url = \"https://api.groq.com/openai/v1/chat/completions\"\n",
    "headers = {\n",
    "    \"Authorization\": f\"Bearer {api_key}\",\n",
    "    \"Content-Type\": \"application/json\"\n",
    "}\n"
   ]
  },
  {
   "cell_type": "markdown",
   "id": "3dd196c5-812a-4343-a4df-8dcc20bf3271",
   "metadata": {},
   "source": [
    "###  Load Negative Areas Function"
   ]
  },
  {
   "cell_type": "code",
   "execution_count": 9,
   "id": "6bd37d76-aa96-4504-b6a2-9bdaa98cc533",
   "metadata": {},
   "outputs": [],
   "source": [
    "# Load negative areas from a file\n",
    "def load_negative_areas(file_path):\n",
    "    with open(file_path, 'r') as file:\n",
    "        return [line.strip() for line in file.readlines()]\n"
   ]
  },
  {
   "cell_type": "markdown",
   "id": "c3f11752-37d8-4a27-b6b7-104385f3d6f0",
   "metadata": {},
   "source": [
    "### Process Feedback Function"
   ]
  },
  {
   "cell_type": "code",
   "execution_count": 10,
   "id": "00555c11-32be-4f5a-a026-8bee81456cf9",
   "metadata": {},
   "outputs": [],
   "source": [
    "# Function to process feedback and analyze sentiment\n",
    "def process_feedback(feedback):\n",
    "    # Define the task prompt that trains the model using the feedback\n",
    "    task_prompt = (\n",
    "        \"You are a highly advanced AI model tasked with analyzing customer feedback \"\n",
    "        \"to identify areas that caused dissatisfaction. Focus on key aspects of the experience, such as \"\n",
    "        \"dining, cleanliness, staff behavior, room amenities, parking facilities, and other service-related \"\n",
    "        \"issues. For each piece of feedback, identify whether the sentiment is positive or negative. \"\n",
    "        \"If negative, highlight specific aspects mentioned in the feedback that contributed to the dissatisfaction. \"\n",
    "        \"Provide a structured response indicating the sentiment and the areas of concern.\"\n",
    "    )\n",
    "        \n",
    "    # Load the negative areas from the file\n",
    "    negative_areas = load_negative_areas('negative_areas.txt')  \n",
    "    # Create the input payload for the API request\n",
    "    data = {\n",
    "        \"model\": \"llama-3.3-70b-versatile\",\n",
    "        \"messages\": [\n",
    "            {\n",
    "                \"role\": \"user\",\n",
    "                \"content\": f\"Analyze the sentiment of the following feedback: '{feedback}'. Return a sentiment (Positive or Negative).\"\n",
    "            }\n",
    "        ]\n",
    "    }\n",
    "\n",
    "    # Make a POST request to GroqCloud's API\n",
    "    response = requests.post(api_url, headers=headers, json=data)\n",
    "\n",
    "    # Check if the response is successful and process the result\n",
    "    if response.status_code == 200:\n",
    "        result = response.json()  # If successful, process the response data\n",
    "        print(\"\\nAPI Response:\", result)  # Debugging step to inspect the actual response structure\n",
    "        \n",
    "        # Extract the sentiment from the response\n",
    "        try:\n",
    "            sentiment = result['choices'][0]['message']['content'].strip()  # Adjusted indexing\n",
    "            print(f\"Sentiment: {sentiment}\")\n",
    "            \n",
    "            found_areas = []\n",
    "            if \"negative\" in sentiment.lower():\n",
    "                print(\"Negative sentiment detected. Analyzing areas that caused negative feedback...\")\n",
    "                \n",
    "                # Compare feedback with the negative areas\n",
    "                found_areas = [area for area in negative_areas if area.lower() in feedback.lower()]\n",
    "                \n",
    "                if found_areas:\n",
    "                    print(\"\\nNegative feedback related to:\")\n",
    "                    for area in found_areas:\n",
    "                        print(f\"- {area}\")\n",
    "                else:\n",
    "                    print(\"No specific areas of negative feedback identified.\")\n",
    "                \n",
    "                # Generate an alert for negative sentiment or service issues\n",
    "                generate_alert(feedback, found_areas)\n",
    "            \n",
    "            # Create the dictionary to store results\n",
    "            feedback_analysis = {\n",
    "                'sentiment': 'Negative' if \"negative\" in sentiment.lower() else 'Positive',\n",
    "                'areas identified': found_areas\n",
    "            }\n",
    "            \n",
    "            # Print the dictionary\n",
    "            print(\"\\nFeedback Analysis Dictionary:\")\n",
    "            print(feedback_analysis)\n",
    "            \n",
    "        except (IndexError, KeyError) as e:\n",
    "            print(\"Unexpected API response structure:\", e)\n",
    "    else:\n",
    "        print(f\"Error: {response.status_code}, {response.text}\")\n"
   ]
  },
  {
   "cell_type": "markdown",
   "id": "b6919ddb-febf-4bdf-82b4-64a1177acef1",
   "metadata": {},
   "source": [
    "### Generate Alert Function"
   ]
  },
  {
   "cell_type": "code",
   "execution_count": 11,
   "id": "08aad212-0176-410a-89fe-75daa73e21db",
   "metadata": {},
   "outputs": [],
   "source": [
    "# Function to generate an alert\n",
    "def generate_alert(feedback, found_areas):\n",
    "    # Generate a detailed alert including the negative areas\n",
    "    print(f\"\\nALERT GENERATED: Immediate attention required for the following feedback:\")\n",
    "    print(f\"Feedback: {feedback}\")\n",
    "    if found_areas:\n",
    "        print(\"\\nIdentified issues in the following areas:\")\n",
    "        for area in found_areas:\n",
    "            print(f\"- {area}\")\n",
    "    else:\n",
    "        print(\"No specific areas identified, but negative sentiment detected.\")\n",
    "   \n"
   ]
  },
  {
   "cell_type": "markdown",
   "id": "534e0992-b00b-40a5-9d5a-ccf07e4667f7",
   "metadata": {},
   "source": [
    "### Main Function"
   ]
  },
  {
   "cell_type": "code",
   "execution_count": 12,
   "id": "984064d6-e7b0-4537-9581-cdd47e73200e",
   "metadata": {},
   "outputs": [],
   "source": [
    "# Main function to get user input and process feedback\n",
    "def main():\n",
    "    # Input: Dynamic user feedback\n",
    "    feedback = input(\"Please enter your feedback: \")\n",
    "    \n",
    "    # Call the function to process feedback\n",
    "    process_feedback(feedback)\n"
   ]
  },
  {
   "cell_type": "markdown",
   "id": "8d7b1e12-b62d-4e3f-ac5e-1cb0869f607c",
   "metadata": {},
   "source": [
    "### Run Main Function        "
   ]
  },
  {
   "cell_type": "code",
   "execution_count": 13,
   "id": "c0656291-107e-4ec3-aa91-c15c49d1b0c0",
   "metadata": {},
   "outputs": [
    {
     "name": "stdin",
     "output_type": "stream",
     "text": [
      "Please enter your feedback:  I chose this hotel based on its advertised amenities, but it was a complete letdown. The dining experience was terrible; the food was cold, and the staff seemed inattentive. The air conditioning in my room didn’t work properly, and the parking facilities were a nightmare, with no security in place. On top of that, the check-out process was delayed because the system was down, and no one offered an apology or solution. The overall attitude of the staff and the state of the facilities made this a regretful choice.\n"
     ]
    },
    {
     "name": "stdout",
     "output_type": "stream",
     "text": [
      "\n",
      "API Response: {'id': 'chatcmpl-8c0dca8c-1b87-436e-b338-755afb5a3de4', 'object': 'chat.completion', 'created': 1736170348, 'model': 'llama-3.3-70b-versatile', 'choices': [{'index': 0, 'message': {'role': 'assistant', 'content': 'The sentiment of the given feedback is: Negative. \\n\\nThe customer expresses dissatisfaction with multiple aspects of their hotel stay, including the dining experience, room amenities, parking, and check-out process. They use strong negative words like \"complete letdown\", \"terrible\", \"nightmare\", and \"regretful choice\", which further emphasizes their negative sentiment. There is no positive comment or praise in the feedback, confirming that the overall sentiment is Negative.'}, 'logprobs': None, 'finish_reason': 'stop'}], 'usage': {'queue_time': 0.018030809000000002, 'prompt_tokens': 161, 'prompt_time': 0.023195555, 'completion_tokens': 91, 'completion_time': 0.330909091, 'total_tokens': 252, 'total_time': 0.354104646}, 'system_fingerprint': 'fp_fcc3b74982', 'x_groq': {'id': 'req_01jgxx27syfr79p3pp5h0z5bfy'}}\n",
      "Sentiment: The sentiment of the given feedback is: Negative. \n",
      "\n",
      "The customer expresses dissatisfaction with multiple aspects of their hotel stay, including the dining experience, room amenities, parking, and check-out process. They use strong negative words like \"complete letdown\", \"terrible\", \"nightmare\", and \"regretful choice\", which further emphasizes their negative sentiment. There is no positive comment or praise in the feedback, confirming that the overall sentiment is Negative.\n",
      "Negative sentiment detected. Analyzing areas that caused negative feedback...\n",
      "\n",
      "Negative feedback related to:\n",
      "- dining\n",
      "- facilities\n",
      "- amenities\n",
      "- check-out process\n",
      "- parking facilities\n",
      "\n",
      "ALERT GENERATED: Immediate attention required for the following feedback:\n",
      "Feedback: I chose this hotel based on its advertised amenities, but it was a complete letdown. The dining experience was terrible; the food was cold, and the staff seemed inattentive. The air conditioning in my room didn’t work properly, and the parking facilities were a nightmare, with no security in place. On top of that, the check-out process was delayed because the system was down, and no one offered an apology or solution. The overall attitude of the staff and the state of the facilities made this a regretful choice.\n",
      "\n",
      "Identified issues in the following areas:\n",
      "- dining\n",
      "- facilities\n",
      "- amenities\n",
      "- check-out process\n",
      "- parking facilities\n",
      "\n",
      "Feedback Analysis Dictionary:\n",
      "{'sentiment': 'Negative', 'areas identified': ['dining', 'facilities', 'amenities', 'check-out process', 'parking facilities']}\n"
     ]
    }
   ],
   "source": [
    "# Run the main function\n",
    "main()\n"
   ]
  },
  {
   "cell_type": "code",
   "execution_count": 14,
   "id": "4bc01a0a-5849-488c-ae65-3084bb42e63f",
   "metadata": {},
   "outputs": [
    {
     "name": "stdin",
     "output_type": "stream",
     "text": [
      "Please enter your feedback:  The hotel stay was fantastic! The staff were exceptionally friendly and accommodating. The rooms were clean, spacious, and well-maintained, with all the promised amenities. The dining experience was delightful, offering a wide variety of delicious food. The check-in and check-out process was smooth and hassle-free. Overall, I had a wonderful experience and would highly recommend this hotel to others.\n"
     ]
    },
    {
     "name": "stdout",
     "output_type": "stream",
     "text": [
      "\n",
      "API Response: {'id': 'chatcmpl-41b6e450-a9d0-4dd8-8fc5-cd517d7a67ef', 'object': 'chat.completion', 'created': 1736170426, 'model': 'llama-3.3-70b-versatile', 'choices': [{'index': 0, 'message': {'role': 'assistant', 'content': 'The sentiment of the given feedback is: Positive.'}, 'logprobs': None, 'finish_reason': 'stop'}], 'usage': {'queue_time': 0.019575843, 'prompt_tokens': 129, 'prompt_time': 0.017574346, 'completion_tokens': 11, 'completion_time': 0.04, 'total_tokens': 140, 'total_time': 0.057574346}, 'system_fingerprint': 'fp_fcc3b74982', 'x_groq': {'id': 'req_01jgxx4krxf48s34q4ymmyz2b9'}}\n",
      "Sentiment: The sentiment of the given feedback is: Positive.\n",
      "\n",
      "Feedback Analysis Dictionary:\n",
      "{'sentiment': 'Positive', 'areas identified': []}\n"
     ]
    }
   ],
   "source": [
    "main()"
   ]
  },
  {
   "cell_type": "code",
   "execution_count": null,
   "id": "48c6525b-cc4a-4096-9268-587cac6388c0",
   "metadata": {},
   "outputs": [],
   "source": []
  }
 ],
 "metadata": {
  "kernelspec": {
   "display_name": "Python 3 (ipykernel)",
   "language": "python",
   "name": "python3"
  },
  "language_info": {
   "codemirror_mode": {
    "name": "ipython",
    "version": 3
   },
   "file_extension": ".py",
   "mimetype": "text/x-python",
   "name": "python",
   "nbconvert_exporter": "python",
   "pygments_lexer": "ipython3",
   "version": "3.11.2"
  }
 },
 "nbformat": 4,
 "nbformat_minor": 5
}
