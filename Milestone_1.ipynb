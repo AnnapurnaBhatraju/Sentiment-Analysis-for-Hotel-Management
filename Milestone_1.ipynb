{
 "cells": [
  {
   "cell_type": "code",
   "execution_count": 4,
   "id": "384570e6-a290-4c5f-90ab-3b0b205d77e5",
   "metadata": {},
   "outputs": [],
   "source": [
    "from openai import OpenAI\n"
   ]
  },
  {
   "cell_type": "code",
   "execution_count": 21,
   "id": "604b469e-4e8c-4b45-ab4a-98fbea8439fe",
   "metadata": {},
   "outputs": [],
   "source": [
    "# Store the API Key in a file and read it using a file object to ensure data privacy\n",
    "f = open(\"API Key\", 'r')\n",
    "api_key_value = f.read()"
   ]
  },
  {
   "cell_type": "markdown",
   "id": "43725bc2-25c9-462f-b6dc-bbead68a3fde",
   "metadata": {},
   "source": [
    "## Add a function to check the API key's validity."
   ]
  },
  {
   "cell_type": "code",
   "execution_count": 18,
   "id": "f191cd36-62cc-4357-a040-5b892f0bfe94",
   "metadata": {},
   "outputs": [
    {
     "name": "stdout",
     "output_type": "stream",
     "text": [
      "API key is valid.\n"
     ]
    }
   ],
   "source": [
    "import requests\n",
    "\n",
    "def validate_api_key(api_key):\n",
    "    url = \"https://openrouter.ai/api/v1/validate\"\n",
    "    headers = {\"Authorization\": f\"Bearer {api_key}\"}\n",
    "    response = requests.get(url, headers=headers)\n",
    "    if response.status_code == 200:\n",
    "        print(\"API key is valid.\")\n",
    "    else:\n",
    "        print(f\"API key validation failed: {response.status_code} - {response.text}\")\n",
    "\n",
    "validate_api_key(api_key_value)\n"
   ]
  },
  {
   "cell_type": "code",
   "execution_count": 22,
   "id": "b714dc76-3d0a-4098-a8c0-93b9338b2034",
   "metadata": {},
   "outputs": [
    {
     "name": "stdout",
     "output_type": "stream",
     "text": [
      "Love is often described as one of the most beautiful and powerful emotions that we can experience. It has the ability to bring joy, happiness, and fulfillment into our lives. Love can inspire us to be better versions of ourselves, and it has the power to heal and mend relationships. Love can be found in many different forms, whether it be romantic love, friendship, or the love between family members. It is a truly remarkable and beautiful aspect of the human experience.\n"
     ]
    }
   ],
   "source": [
    "\n",
    "client = OpenAI(\n",
    "  base_url=\"https://openrouter.ai/api/v1\",\n",
    "  api_key=api_key_value,\n",
    ")\n",
    "\n",
    "completion = client.chat.completions.create(\n",
    "  extra_headers={\n",
    "    \"HTTP-Referer\": \"file:///F:/DON'T%20OPEN/Training%20and%20stuff/1.%20C%20training/Random/web%20project/web%20page%20for%20project.htm\", # Optional, for including your app on openrouter.ai rankings.\n",
    "    \"X-Title\": \"My_Web_App\", # Optional. Shows in rankings on openrouter.ai.\n",
    "  },\n",
    "  model=\"openai/gpt-3.5-turbo\",\n",
    "  messages=[\n",
    "    {\n",
    "      \"role\": \"user\",\n",
    "      \"content\": \"How beautiful is love\"\n",
    "    }\n",
    "  ]\n",
    ")\n",
    "print(completion.choices[0].message.content)"
   ]
  },
  {
   "cell_type": "code",
   "execution_count": 23,
   "id": "88c994c3-b004-4c90-88e7-7f4f484eac8e",
   "metadata": {},
   "outputs": [
    {
     "name": "stdout",
     "output_type": "stream",
     "text": [
      "1. \"Knowledge is power.\"\n",
      "2. \"The roots of education are bitter, but the fruit is sweet.\"\n",
      "3. \"Education is the passport to the future, for tomorrow belongs to those who prepare for it today.\"\n",
      "4. \"Strive for progress, not perfection.\"\n",
      "5. \"The more you learn, the more you earn.\"\n",
      "6. \"Education is the key to unlocking the golden door of freedom.\"\n",
      "7. \"Success is the result of perfection, hard work, learning from failure, loyalty, and persistence.\"\n",
      "8. \"The future belongs to those who believe in the beauty of their dreams.\"\n",
      "9. \"Education is not preparation for life; education is life itself.\"\n",
      "10. \"You have the power to shape your own future through your dedication to education.\"\n"
     ]
    }
   ],
   "source": [
    "client = OpenAI(\n",
    "  base_url=\"https://openrouter.ai/api/v1\",\n",
    "  api_key=api_key_value,\n",
    ")\n",
    "\n",
    "completion = client.chat.completions.create(\n",
    "  extra_headers={\n",
    "    \"HTTP-Referer\": \"file:///F:/DON'T%20OPEN/Training%20and%20stuff/1.%20C%20training/Random/web%20project/web%20page%20for%20project.htm\", # Optional, for including your app on openrouter.ai rankings.\n",
    "    \"X-Title\": \"My_Web_App\", # Optional. Shows in rankings on openrouter.ai.\n",
    "  },\n",
    "  model=\"openai/gpt-3.5-turbo\",\n",
    "messages=[\n",
    "    {\n",
    "      \"role\": \"user\",\n",
    "      \"content\": \"Give me 10 proverbs that motivate me to focus more on studies\"\n",
    "    }\n",
    "  ]\n",
    ")\n",
    "print(completion.choices[0].message.content)"
   ]
  },
  {
   "cell_type": "code",
   "execution_count": 24,
   "id": "05d8ab5f-9d2e-4fed-9e6c-930f90e15996",
   "metadata": {},
   "outputs": [
    {
     "name": "stdout",
     "output_type": "stream",
     "text": [
      "Veg biryani is a delicious and aromatic Indian dish made with basmati rice, mixed vegetables, and a blend of spices and herbs. It is typically cooked with onions, tomatoes, ginger, garlic, and a variety of spices such as cinnamon, cardamom, cloves, and bay leaves. The dish is then garnished with coriander leaves and fried onions for added flavor. Veg biryani is a popular vegetarian option that is enjoyed by people of all ages. It can be served with yogurt raita or a side of salad for a complete meal.\n"
     ]
    }
   ],
   "source": [
    "client = OpenAI(\n",
    "  base_url=\"https://openrouter.ai/api/v1\",\n",
    "  api_key=api_key_value,\n",
    ")\n",
    "\n",
    "completion = client.chat.completions.create(\n",
    "  extra_headers={\n",
    "    \"HTTP-Referer\": \"file:///F:/DON'T%20OPEN/Training%20and%20stuff/1.%20C%20training/Random/web%20project/web%20page%20for%20project.htm\", # Optional, for including your app on openrouter.ai rankings.\n",
    "    \"X-Title\": \"My_Web_App\", # Optional. Shows in rankings on openrouter.ai.\n",
    "  },\n",
    "  model=\"openai/gpt-3.5-turbo\",\n",
    "messages=[\n",
    "    {\n",
    "      \"role\": \"user\",\n",
    "      \"content\": \"veg biryani\"\n",
    "    }\n",
    "  ]\n",
    ")\n",
    "print(completion.choices[0].message.content)"
   ]
  },
  {
   "cell_type": "code",
   "execution_count": 25,
   "id": "41e0b9bb-6d72-4e8f-9738-d02fbb86075a",
   "metadata": {},
   "outputs": [
    {
     "name": "stdout",
     "output_type": "stream",
     "text": [
      "1. Hello there! \n",
      "2. Hi! \n",
      "3. Good day!\n",
      "4. Welcome! \n",
      "5. Hey!\n",
      "6. Howdy! \n",
      "7. Greetings!\n",
      "8. Salutations! \n",
      "9. Bonjour! \n",
      "10. Namaste!\n"
     ]
    }
   ],
   "source": [
    "client = OpenAI(\n",
    "  base_url=\"https://openrouter.ai/api/v1\",\n",
    "  api_key=api_key_value,\n",
    ")\n",
    "\n",
    "completion = client.chat.completions.create(\n",
    "  extra_headers={\n",
    "    \"HTTP-Referer\": \"file:///F:/DON'T%20OPEN/Training%20and%20stuff/1.%20C%20training/Random/web%20project/web%20page%20for%20project.htm\", # Optional, for including your app on openrouter.ai rankings.\n",
    "    \"X-Title\": \"My_Web_App\", # Optional. Shows in rankings on openrouter.ai.\n",
    "  },\n",
    "  model=\"openai/gpt-3.5-turbo\",\n",
    "messages=[\n",
    "    {\n",
    "      \"role\": \"user\",\n",
    "      \"content\": \"greet user in different ways\"\n",
    "    }\n",
    "  ]\n",
    ")\n",
    "print(completion.choices[0].message.content)"
   ]
  },
  {
   "cell_type": "code",
   "execution_count": 26,
   "id": "7eabea07-f076-4248-a34d-7e078d5db070",
   "metadata": {},
   "outputs": [
    {
     "name": "stdout",
     "output_type": "stream",
     "text": [
      "Banning exams is a controversial topic with valid arguments on both sides. Supporters of a ban on exams argue that exams can be stressful and anxiety-inducing for students, and that they do not always accurately reflect a student's knowledge or abilities. They also argue that exams can promote a culture of cheating and cramming, rather than true understanding and learning.\n",
      "\n",
      "On the other hand, opponents of a ban on exams argue that exams are a necessary tool for assessing student learning and understanding, and provide valuable feedback to both students and teachers. They believe that exams help to measure a student's progress and comprehension of the material, and can motivate students to study and work hard throughout the semester.\n",
      "\n",
      "Ultimately, the decision to ban exams would depend on the specific circumstances and context of a particular educational institution or system. Some alternative assessment methods, such as project-based assessments or presentations, could be implemented to reduce the reliance on exams while still effectively assessing student learning.\n"
     ]
    }
   ],
   "source": [
    "client = OpenAI(\n",
    "  base_url=\"https://openrouter.ai/api/v1\",\n",
    "  api_key=api_key_value,\n",
    ")\n",
    "\n",
    "completion = client.chat.completions.create(\n",
    "  extra_headers={\n",
    "    \"HTTP-Referer\": \"file:///F:/DON'T%20OPEN/Training%20and%20stuff/1.%20C%20training/Random/web%20project/web%20page%20for%20project.htm\", # Optional, for including your app on openrouter.ai rankings.\n",
    "    \"X-Title\": \"My_Web_App\", # Optional. Shows in rankings on openrouter.ai.\n",
    "  },\n",
    "  model=\"openai/gpt-3.5-turbo\",\n",
    "messages=[\n",
    "    {\n",
    "      \"role\": \"user\",\n",
    "      \"content\": \"What about banning of exams\"\n",
    "    }\n",
    "  ]\n",
    ")\n",
    "print(completion.choices[0].message.content)"
   ]
  },
  {
   "cell_type": "code",
   "execution_count": 27,
   "id": "08d0609c-d56a-41ef-8399-38dea64310d2",
   "metadata": {},
   "outputs": [
    {
     "name": "stdout",
     "output_type": "stream",
     "text": [
      "MLOps, short for Machine Learning Operations, is a practice that aims to streamline and automate the deployment, monitoring, and management of machine learning models in production. It combines principles from DevOps and data engineering to ensure that machine learning projects are delivered efficiently and effectively. MLOps involves implementing processes for continuous integration, continuous delivery, and automated testing to address challenges such as model drift, reproducibility, and scalability. By adopting MLOps practices, organizations can improve the reliability, scalability, and performance of their machine learning models.\n"
     ]
    }
   ],
   "source": [
    "client = OpenAI(\n",
    "  base_url=\"https://openrouter.ai/api/v1\",\n",
    "  api_key=api_key_value,\n",
    ")\n",
    "\n",
    "completion = client.chat.completions.create(\n",
    "  extra_headers={\n",
    "    \"HTTP-Referer\": \"file:///F:/DON'T%20OPEN/Training%20and%20stuff/1.%20C%20training/Random/web%20project/web%20page%20for%20project.htm\", # Optional, for including your app on openrouter.ai rankings.\n",
    "    \"X-Title\": \"My_Web_App\", # Optional. Shows in rankings on openrouter.ai.\n",
    "  },\n",
    "  model=\"openai/gpt-3.5-turbo\",\n",
    "messages=[\n",
    "    {\n",
    "      \"role\": \"user\",\n",
    "      \"content\": \"MLOps\"\n",
    "    }\n",
    "  ]\n",
    ")\n",
    "print(completion.choices[0].message.content)"
   ]
  },
  {
   "cell_type": "code",
   "execution_count": 28,
   "id": "0efc72f3-77d1-4379-9550-1bab6513f84e",
   "metadata": {},
   "outputs": [
    {
     "name": "stdout",
     "output_type": "stream",
     "text": [
      "1. Hello! How are you today?\n",
      "2. Hi there, nice to see you.\n",
      "3. Hey, how's it going?\n",
      "4. Good day! How can I assist you?\n",
      "5. Welcome! How may I help you?\n"
     ]
    }
   ],
   "source": [
    "client = OpenAI(\n",
    "  base_url=\"https://openrouter.ai/api/v1\",\n",
    "  api_key=\"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\",\n",
    ")\n",
    "\n",
    "completion = client.chat.completions.create(\n",
    "  extra_headers={\n",
    "    \"HTTP-Referer\": \"file:///F:/DON'T%20OPEN/Training%20and%20stuff/1.%20C%20training/Random/web%20project/web%20page%20for%20project.htm\", # Optional, for including your app on openrouter.ai rankings.\n",
    "    \"X-Title\": \"My_Web_App\", # Optional. Shows in rankings on openrouter.ai.\n",
    "  },\n",
    "  model=\"openai/gpt-3.5-turbo\",\n",
    "messages=[\n",
    "    {\n",
    "      \"role\": \"user\",\n",
    "      \"content\": \"greet user in different ways\"\n",
    "    }\n",
    "  ]\n",
    ")\n",
    "print(completion.choices[0].message.content)"
   ]
  },
  {
   "cell_type": "code",
   "execution_count": 2,
   "id": "1bde29e4-5c38-44cc-bedc-4b23c9943682",
   "metadata": {},
   "outputs": [
    {
     "data": {
      "text/plain": [
       "<_io.TextIOWrapper name='API Key' mode='w+' encoding='cp1252'>"
      ]
     },
     "execution_count": 2,
     "metadata": {},
     "output_type": "execute_result"
    }
   ],
   "source": [
    "api_key_value"
   ]
  },
  {
   "cell_type": "code",
   "execution_count": 14,
   "id": "722d8bc1-afb2-4dd7-aa1e-aa17a1dcece7",
   "metadata": {},
   "outputs": [
    {
     "name": "stdout",
     "output_type": "stream",
     "text": [
      "I am not aware of this specific incident. Can you please provide more information or context about it?\n"
     ]
    }
   ],
   "source": [
    "client = OpenAI(\n",
    "  base_url=\"https://openrouter.ai/api/v1\",\n",
    "  api_key=api_key_value,\n",
    ")\n",
    "\n",
    "completion = client.chat.completions.create(\n",
    "  extra_headers={\n",
    "    \"HTTP-Referer\": \"file:///F:/DON'T%20OPEN/Training%20and%20stuff/1.%20C%20training/Random/web%20project/web%20page%20for%20project.htm\", # Optional, for including your app on openrouter.ai rankings.\n",
    "    \"X-Title\": \"My_Interaction_App\", # Optional. Shows in rankings on openrouter.ai.\n",
    "  },\n",
    "  model=\"openai/gpt-3.5-turbo\",\n",
    "messages=[\n",
    "    {\n",
    "      \"role\": \"user\",\n",
    "      \"content\": \"Do you know that a robo comitted suicide in South Korea\"\n",
    "    }\n",
    "  ]\n",
    ")\n",
    "print(completion.choices[0].message.content)"
   ]
  },
  {
   "cell_type": "code",
   "execution_count": 15,
   "id": "d6a40fcc-8c72-4b5b-ad38-cac495251e3f",
   "metadata": {},
   "outputs": [
    {
     "name": "stdout",
     "output_type": "stream",
     "text": [
      "Exams can be both beautiful and stressful at the same time. On one hand, exams serve as a way to assess one's knowledge and understanding of a subject, allowing individuals to showcase their skills and capabilities. This can be a beautiful and rewarding experience, especially when one performs well and achieves their desired results.\n",
      "\n",
      "On the other hand, exams can also be incredibly stressful. The pressure to perform, the fear of failure, and the anxiety of not meeting expectations can weigh heavily on students, causing immense stress and worry. This can take away from the beauty of exams and make them a daunting and overwhelming experience.\n",
      "\n",
      "Overall, exams have the potential to be both beautiful and stressful, depending on the individual's perspective and how they approach and handle the exam process.\n"
     ]
    }
   ],
   "source": [
    "client = OpenAI(\n",
    "  base_url=\"https://openrouter.ai/api/v1\",\n",
    "  api_key=api_key_value,\n",
    ")\n",
    "\n",
    "completion = client.chat.completions.create(\n",
    "  extra_headers={\n",
    "    \"HTTP-Referer\": \"file:///F:/DON'T%20OPEN/Training%20and%20stuff/1.%20C%20training/Random/web%20project/web%20page%20for%20project.htm\", # Optional, for including your app on openrouter.ai rankings.\n",
    "    \"X-Title\": \"My_Interaction_App\", # Optional. Shows in rankings on openrouter.ai.\n",
    "  },\n",
    "  model=\"openai/gpt-3.5-turbo\",\n",
    "messages=[\n",
    "    {\n",
    "      \"role\": \"user\",\n",
    "      \"content\": \"How beautiful (stressful) are exams?\"\n",
    "    }\n",
    "  ]\n",
    ")\n",
    "print(completion.choices[0].message.content)"
   ]
  },
  {
   "cell_type": "code",
   "execution_count": 17,
   "id": "2bec3c44-3c4c-4aa2-b3e3-658f8ea93f52",
   "metadata": {},
   "outputs": [
    {
     "name": "stdout",
     "output_type": "stream",
     "text": [
      "As a LLM (Language Model), I am programmed to provide responses based on patterns and information in the data I have been trained on. When faced with ambiguous prompts, I can try to generate different interpretations or responses based on the available information and context. However, unlike humans, I do not have the ability to fully understand or interpret ambiguous situations in the same way. My responses may lack nuance or depth in dealing with ambiguity compared to a human's ability to intuitively navigate complex and uncertain scenarios.\n"
     ]
    }
   ],
   "source": [
    "client = OpenAI(\n",
    "  base_url=\"https://openrouter.ai/api/v1\",\n",
    "  api_key=api_key_value,\n",
    ")\n",
    "\n",
    "completion = client.chat.completions.create(\n",
    "  extra_headers={\n",
    "    \"HTTP-Referer\": \"file:///F:/DON'T%20OPEN/Training%20and%20stuff/1.%20C%20training/Random/web%20project/web%20page%20for%20project.htm\", # Optional, for including your app on openrouter.ai rankings.\n",
    "    \"X-Title\": \"My_Interaction_App\", # Optional. Shows in rankings on openrouter.ai.\n",
    "  },\n",
    "  model=\"openai/gpt-3.5-turbo\",\n",
    "messages=[\n",
    "    {\n",
    "      \"role\": \"user\",\n",
    "      \"content\": \"Being a LLM, how can you handle ambiguity in prompts like humans can?\"\n",
    "    }\n",
    "  ]\n",
    ")\n",
    "print(completion.choices[0].message.content)"
   ]
  }
 ],
 "metadata": {
  "kernelspec": {
   "display_name": "Python 3 (ipykernel)",
   "language": "python",
   "name": "python3"
  },
  "language_info": {
   "codemirror_mode": {
    "name": "ipython",
    "version": 3
   },
   "file_extension": ".py",
   "mimetype": "text/x-python",
   "name": "python",
   "nbconvert_exporter": "python",
   "pygments_lexer": "ipython3",
   "version": "3.11.2"
  }
 },
 "nbformat": 4,
 "nbformat_minor": 5
}
