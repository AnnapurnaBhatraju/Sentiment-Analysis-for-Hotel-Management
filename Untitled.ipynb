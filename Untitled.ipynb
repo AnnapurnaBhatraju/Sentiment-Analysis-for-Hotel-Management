{
 "cells": [
  {
   "cell_type": "code",
   "execution_count": 1,
   "id": "c22ab9a9-c475-4f73-b450-ef0b80a21a8f",
   "metadata": {},
   "outputs": [
    {
     "name": "stdout",
     "output_type": "stream",
     "text": [
      "Collecting python-dotenvNote: you may need to restart the kernel to use updated packages.\n",
      "\n",
      "  Downloading python_dotenv-1.0.1-py3-none-any.whl.metadata (23 kB)\n",
      "Downloading python_dotenv-1.0.1-py3-none-any.whl (19 kB)\n",
      "Installing collected packages: python-dotenv\n",
      "Successfully installed python-dotenv-1.0.1\n"
     ]
    }
   ],
   "source": [
    "pip install python-dotenv\n"
   ]
  },
  {
   "cell_type": "code",
   "execution_count": 4,
   "id": "991fbddf-aec3-49a5-b460-14356ee23730",
   "metadata": {},
   "outputs": [
    {
     "name": "stdout",
     "output_type": "stream",
     "text": [
      "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\n"
     ]
    }
   ],
   "source": [
    "from dotenv import load_dotenv\n",
    "import os\n",
    "\n",
    "load_dotenv()  # Load .env file\n",
    "\n",
    "api_key = os.getenv(\"OPENROUTER_API_KEY\")  # Replace with your variable name\n",
    "print(api_key)  # Test that the variable is loaded\n"
   ]
  },
  {
   "cell_type": "code",
   "execution_count": 5,
   "id": "299cc05e-81ea-4341-ad30-91c6369efdad",
   "metadata": {},
   "outputs": [
    {
     "name": "stdin",
     "output_type": "stream",
     "text": [
      "Enter guest feedback:  The room was too noisy, and the staff was unresponsive.\n"
     ]
    },
    {
     "name": "stdout",
     "output_type": "stream",
     "text": [
      "Error analyzing sentiment: \n",
      "\n",
      "You tried to access openai.Completion, but this is no longer supported in openai>=1.0.0 - see the README at https://github.com/openai/openai-python for the API.\n",
      "\n",
      "You can run `openai migrate` to automatically upgrade your codebase to use the 1.0.0 interface. \n",
      "\n",
      "Alternatively, you can pin your installation to the old version, e.g. `pip install openai==0.28`\n",
      "\n",
      "A detailed migration guide is available here: https://github.com/openai/openai-python/discussions/742\n",
      "\n"
     ]
    }
   ],
   "source": [
    "import openai\n",
    "from dotenv import load_dotenv\n",
    "import os\n",
    "\n",
    "# Load environment variables\n",
    "load_dotenv()\n",
    "\n",
    "# Retrieve the API key\n",
    "api_key = os.getenv(\"OPENROUTER_API_KEY\")\n",
    "openai.api_key = api_key\n",
    "\n",
    "def analyze_feedback(feedback):\n",
    "    try:\n",
    "        # Define the prompt for analysis\n",
    "        sentiment_prompt = (\n",
    "            \"Analyze the following hotel guest feedback and determine the sentiment \"\n",
    "            \"(positive or negative). If negative, list areas of concern:\\n\\n\"\n",
    "            f\"Feedback: {feedback}\\n\\n\"\n",
    "            \"Response format: Sentiment: <Positive/Negative>\\nAreas of Concern: <List of concerns>\"\n",
    "        )\n",
    "        \n",
    "        # Adjusted API call for newer OpenAI Python SDK (v1.0.0+)\n",
    "        response = openai.Completion.create(\n",
    "            model=\"gpt-3.5-turbo\",  # Specify model, check the latest supported model\n",
    "            prompt=sentiment_prompt,\n",
    "            max_tokens=100\n",
    "        )\n",
    "        \n",
    "        # Extract response\n",
    "        reply = response.choices[0].text.strip()\n",
    "        return reply\n",
    "\n",
    "    except Exception as e:\n",
    "        return f\"Error analyzing sentiment: {str(e)}\"\n",
    "\n",
    "# Test the function\n",
    "feedback = input(\"Enter guest feedback: \")\n",
    "result = analyze_feedback(feedback)\n",
    "print(result)\n"
   ]
  },
  {
   "cell_type": "code",
   "execution_count": 6,
   "id": "ee823941-8c64-4810-bed4-de776d551a8b",
   "metadata": {},
   "outputs": [
    {
     "name": "stdout",
     "output_type": "stream",
     "text": [
      "C:\\Users\\lenovo\\Infosys SpringBoard Project Workspace\\Milestone 2\n"
     ]
    }
   ],
   "source": [
    "import os\n",
    "print(os.getcwd())\n"
   ]
  },
  {
   "cell_type": "code",
   "execution_count": null,
   "id": "ffbd8b61-9a2c-492c-9376-ad6d99a9fbee",
   "metadata": {},
   "outputs": [],
   "source": []
  }
 ],
 "metadata": {
  "kernelspec": {
   "display_name": "Python 3 (ipykernel)",
   "language": "python",
   "name": "python3"
  },
  "language_info": {
   "codemirror_mode": {
    "name": "ipython",
    "version": 3
   },
   "file_extension": ".py",
   "mimetype": "text/x-python",
   "name": "python",
   "nbconvert_exporter": "python",
   "pygments_lexer": "ipython3",
   "version": "3.11.2"
  }
 },
 "nbformat": 4,
 "nbformat_minor": 5
}
